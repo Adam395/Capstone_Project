{
 "cells": [
  {
   "cell_type": "code",
   "execution_count": 1,
   "metadata": {},
   "outputs": [],
   "source": [
    "import pandas as pd \n",
    "import numpy as np \n"
   ]
  },
  {
   "cell_type": "markdown",
   "metadata": {},
   "source": [
    "### Import and Clean Steam User Behavior Dataset"
   ]
  },
  {
   "cell_type": "code",
   "execution_count": 3,
   "metadata": {},
   "outputs": [],
   "source": [
    "steam_df = pd.read_csv(r'../datasets/steam-200k.csv')"
   ]
  },
  {
   "cell_type": "code",
   "execution_count": 4,
   "metadata": {},
   "outputs": [
    {
     "output_type": "execute_result",
     "data": {
      "text/plain": "        151603712  The Elder Scrolls V Skyrim  purchase    1.0  0\n0       151603712  The Elder Scrolls V Skyrim      play  273.0  0\n1       151603712                   Fallout 4  purchase    1.0  0\n2       151603712                   Fallout 4      play   87.0  0\n3       151603712                       Spore  purchase    1.0  0\n4       151603712                       Spore      play   14.9  0\n...           ...                         ...       ...    ... ..\n199994  128470551                 Titan Souls      play    1.5  0\n199995  128470551  Grand Theft Auto Vice City  purchase    1.0  0\n199996  128470551  Grand Theft Auto Vice City      play    1.5  0\n199997  128470551                        RUSH  purchase    1.0  0\n199998  128470551                        RUSH      play    1.4  0\n\n[199999 rows x 5 columns]",
      "text/html": "<div>\n<style scoped>\n    .dataframe tbody tr th:only-of-type {\n        vertical-align: middle;\n    }\n\n    .dataframe tbody tr th {\n        vertical-align: top;\n    }\n\n    .dataframe thead th {\n        text-align: right;\n    }\n</style>\n<table border=\"1\" class=\"dataframe\">\n  <thead>\n    <tr style=\"text-align: right;\">\n      <th></th>\n      <th>151603712</th>\n      <th>The Elder Scrolls V Skyrim</th>\n      <th>purchase</th>\n      <th>1.0</th>\n      <th>0</th>\n    </tr>\n  </thead>\n  <tbody>\n    <tr>\n      <th>0</th>\n      <td>151603712</td>\n      <td>The Elder Scrolls V Skyrim</td>\n      <td>play</td>\n      <td>273.0</td>\n      <td>0</td>\n    </tr>\n    <tr>\n      <th>1</th>\n      <td>151603712</td>\n      <td>Fallout 4</td>\n      <td>purchase</td>\n      <td>1.0</td>\n      <td>0</td>\n    </tr>\n    <tr>\n      <th>2</th>\n      <td>151603712</td>\n      <td>Fallout 4</td>\n      <td>play</td>\n      <td>87.0</td>\n      <td>0</td>\n    </tr>\n    <tr>\n      <th>3</th>\n      <td>151603712</td>\n      <td>Spore</td>\n      <td>purchase</td>\n      <td>1.0</td>\n      <td>0</td>\n    </tr>\n    <tr>\n      <th>4</th>\n      <td>151603712</td>\n      <td>Spore</td>\n      <td>play</td>\n      <td>14.9</td>\n      <td>0</td>\n    </tr>\n    <tr>\n      <th>...</th>\n      <td>...</td>\n      <td>...</td>\n      <td>...</td>\n      <td>...</td>\n      <td>...</td>\n    </tr>\n    <tr>\n      <th>199994</th>\n      <td>128470551</td>\n      <td>Titan Souls</td>\n      <td>play</td>\n      <td>1.5</td>\n      <td>0</td>\n    </tr>\n    <tr>\n      <th>199995</th>\n      <td>128470551</td>\n      <td>Grand Theft Auto Vice City</td>\n      <td>purchase</td>\n      <td>1.0</td>\n      <td>0</td>\n    </tr>\n    <tr>\n      <th>199996</th>\n      <td>128470551</td>\n      <td>Grand Theft Auto Vice City</td>\n      <td>play</td>\n      <td>1.5</td>\n      <td>0</td>\n    </tr>\n    <tr>\n      <th>199997</th>\n      <td>128470551</td>\n      <td>RUSH</td>\n      <td>purchase</td>\n      <td>1.0</td>\n      <td>0</td>\n    </tr>\n    <tr>\n      <th>199998</th>\n      <td>128470551</td>\n      <td>RUSH</td>\n      <td>play</td>\n      <td>1.4</td>\n      <td>0</td>\n    </tr>\n  </tbody>\n</table>\n<p>199999 rows × 5 columns</p>\n</div>"
     },
     "metadata": {},
     "execution_count": 4
    }
   ],
   "source": [
    "steam_df"
   ]
  },
  {
   "cell_type": "code",
   "execution_count": 6,
   "metadata": {},
   "outputs": [
    {
     "output_type": "execute_result",
     "data": {
      "text/plain": "Series([], dtype: float64)"
     },
     "metadata": {},
     "execution_count": 6
    }
   ],
   "source": [
    "features_null = steam_df.columns[df.isna().any()].tolist()\n",
    "df[features_null].isna().sum()"
   ]
  },
  {
   "cell_type": "code",
   "execution_count": 11,
   "metadata": {},
   "outputs": [],
   "source": [
    "df.drop(columns = ['0'], inplace=True)"
   ]
  },
  {
   "cell_type": "code",
   "execution_count": 9,
   "metadata": {},
   "outputs": [],
   "source": [
    "steam_df.columns = ['user_id', 'game_title','behavior','hours_played']"
   ]
  },
  {
   "cell_type": "code",
   "execution_count": 10,
   "metadata": {},
   "outputs": [
    {
     "output_type": "execute_result",
     "data": {
      "text/plain": "     user_id                  game_title  behavior  hours_played  0\n0  151603712  The Elder Scrolls V Skyrim      play         273.0  0\n1  151603712                   Fallout 4  purchase           1.0  0\n2  151603712                   Fallout 4      play          87.0  0\n3  151603712                       Spore  purchase           1.0  0\n4  151603712                       Spore      play          14.9  0",
      "text/html": "<div>\n<style scoped>\n    .dataframe tbody tr th:only-of-type {\n        vertical-align: middle;\n    }\n\n    .dataframe tbody tr th {\n        vertical-align: top;\n    }\n\n    .dataframe thead th {\n        text-align: right;\n    }\n</style>\n<table border=\"1\" class=\"dataframe\">\n  <thead>\n    <tr style=\"text-align: right;\">\n      <th></th>\n      <th>user_id</th>\n      <th>game_title</th>\n      <th>behavior</th>\n      <th>hours_played</th>\n      <th>0</th>\n    </tr>\n  </thead>\n  <tbody>\n    <tr>\n      <th>0</th>\n      <td>151603712</td>\n      <td>The Elder Scrolls V Skyrim</td>\n      <td>play</td>\n      <td>273.0</td>\n      <td>0</td>\n    </tr>\n    <tr>\n      <th>1</th>\n      <td>151603712</td>\n      <td>Fallout 4</td>\n      <td>purchase</td>\n      <td>1.0</td>\n      <td>0</td>\n    </tr>\n    <tr>\n      <th>2</th>\n      <td>151603712</td>\n      <td>Fallout 4</td>\n      <td>play</td>\n      <td>87.0</td>\n      <td>0</td>\n    </tr>\n    <tr>\n      <th>3</th>\n      <td>151603712</td>\n      <td>Spore</td>\n      <td>purchase</td>\n      <td>1.0</td>\n      <td>0</td>\n    </tr>\n    <tr>\n      <th>4</th>\n      <td>151603712</td>\n      <td>Spore</td>\n      <td>play</td>\n      <td>14.9</td>\n      <td>0</td>\n    </tr>\n  </tbody>\n</table>\n</div>"
     },
     "metadata": {},
     "execution_count": 10
    }
   ],
   "source": [
    "steam_df.head()"
   ]
  },
  {
   "cell_type": "markdown",
   "metadata": {},
   "source": [
    "### Import and Clean Metacritic Dataset"
   ]
  },
  {
   "cell_type": "code",
   "execution_count": 15,
   "metadata": {},
   "outputs": [],
   "source": [
    "meta_df = pd.read_csv(r'../datasets/result.csv')"
   ]
  },
  {
   "cell_type": "code",
   "execution_count": 17,
   "metadata": {},
   "outputs": [
    {
     "output_type": "execute_result",
     "data": {
      "text/plain": "       metascore                           name console userscore  \\\n0             97             Grand Theft Auto V     PS3       8.3   \n1             97             Grand Theft Auto V    X360       8.3   \n2             95                 The Last of Us     PS3       9.2   \n3             94              BioShock Infinite     PS3       8.5   \n4             94              BioShock Infinite      PC       8.6   \n...          ...                            ...     ...       ...   \n15642         38  Touhou Kobuto V: Burst Battle  Switch       4.6   \n15643         38                        Randall     PS4       2.1   \n15644         36             Tokyo Tattoo Girls    VITA       5.4   \n15645         26                      Road Rage     PS4       2.5   \n15646         17         Vroom in the Night Sky  Switch       3.1   \n\n               date  \n0      Sep 17, 2013  \n1      Sep 17, 2013  \n2      Jun 14, 2013  \n3      Mar 26, 2013  \n4      Mar 25, 2013  \n...             ...  \n15642  Oct 10, 2017  \n15643   Jun 6, 2017  \n15644  Nov 14, 2017  \n15645  Nov 14, 2017  \n15646   Apr 5, 2017  \n\n[15647 rows x 5 columns]",
      "text/html": "<div>\n<style scoped>\n    .dataframe tbody tr th:only-of-type {\n        vertical-align: middle;\n    }\n\n    .dataframe tbody tr th {\n        vertical-align: top;\n    }\n\n    .dataframe thead th {\n        text-align: right;\n    }\n</style>\n<table border=\"1\" class=\"dataframe\">\n  <thead>\n    <tr style=\"text-align: right;\">\n      <th></th>\n      <th>metascore</th>\n      <th>name</th>\n      <th>console</th>\n      <th>userscore</th>\n      <th>date</th>\n    </tr>\n  </thead>\n  <tbody>\n    <tr>\n      <th>0</th>\n      <td>97</td>\n      <td>Grand Theft Auto V</td>\n      <td>PS3</td>\n      <td>8.3</td>\n      <td>Sep 17, 2013</td>\n    </tr>\n    <tr>\n      <th>1</th>\n      <td>97</td>\n      <td>Grand Theft Auto V</td>\n      <td>X360</td>\n      <td>8.3</td>\n      <td>Sep 17, 2013</td>\n    </tr>\n    <tr>\n      <th>2</th>\n      <td>95</td>\n      <td>The Last of Us</td>\n      <td>PS3</td>\n      <td>9.2</td>\n      <td>Jun 14, 2013</td>\n    </tr>\n    <tr>\n      <th>3</th>\n      <td>94</td>\n      <td>BioShock Infinite</td>\n      <td>PS3</td>\n      <td>8.5</td>\n      <td>Mar 26, 2013</td>\n    </tr>\n    <tr>\n      <th>4</th>\n      <td>94</td>\n      <td>BioShock Infinite</td>\n      <td>PC</td>\n      <td>8.6</td>\n      <td>Mar 25, 2013</td>\n    </tr>\n    <tr>\n      <th>...</th>\n      <td>...</td>\n      <td>...</td>\n      <td>...</td>\n      <td>...</td>\n      <td>...</td>\n    </tr>\n    <tr>\n      <th>15642</th>\n      <td>38</td>\n      <td>Touhou Kobuto V: Burst Battle</td>\n      <td>Switch</td>\n      <td>4.6</td>\n      <td>Oct 10, 2017</td>\n    </tr>\n    <tr>\n      <th>15643</th>\n      <td>38</td>\n      <td>Randall</td>\n      <td>PS4</td>\n      <td>2.1</td>\n      <td>Jun 6, 2017</td>\n    </tr>\n    <tr>\n      <th>15644</th>\n      <td>36</td>\n      <td>Tokyo Tattoo Girls</td>\n      <td>VITA</td>\n      <td>5.4</td>\n      <td>Nov 14, 2017</td>\n    </tr>\n    <tr>\n      <th>15645</th>\n      <td>26</td>\n      <td>Road Rage</td>\n      <td>PS4</td>\n      <td>2.5</td>\n      <td>Nov 14, 2017</td>\n    </tr>\n    <tr>\n      <th>15646</th>\n      <td>17</td>\n      <td>Vroom in the Night Sky</td>\n      <td>Switch</td>\n      <td>3.1</td>\n      <td>Apr 5, 2017</td>\n    </tr>\n  </tbody>\n</table>\n<p>15647 rows × 5 columns</p>\n</div>"
     },
     "metadata": {},
     "execution_count": 17
    }
   ],
   "source": [
    "meta_df"
   ]
  },
  {
   "cell_type": "code",
   "execution_count": 18,
   "metadata": {},
   "outputs": [],
   "source": [
    "console_games = meta_df[meta_df['console'] != 'PC'].index"
   ]
  },
  {
   "cell_type": "code",
   "execution_count": 19,
   "metadata": {},
   "outputs": [],
   "source": [
    "meta_df.drop(console_games, inplace = True)"
   ]
  },
  {
   "cell_type": "code",
   "execution_count": 21,
   "metadata": {},
   "outputs": [
    {
     "output_type": "execute_result",
     "data": {
      "text/plain": "      index  metascore                            name console userscore  \\\n0         4         94               BioShock Infinite      PC       8.6   \n1         9         91                             Fez      PC       6.7   \n2        13         90                        Spelunky      PC       7.3   \n3        15         90    Brothers: A Tale of Two Sons      PC       8.6   \n4        16         90                          Dota 2      PC       6.5   \n...     ...        ...                             ...     ...       ...   \n3958  15627         45     Reservoir Dogs: Bloody Days      PC       5.7   \n3959  15629         44  Bubsy: The Woolies Strike Back      PC       4.5   \n3960  15630         44                            Husk      PC       3.8   \n3961  15636         40                    Inner Chains      PC         5   \n3962  15641         38                  Hello Neighbor      PC       4.5   \n\n              date  \n0     Mar 25, 2013  \n1      May 1, 2013  \n2      Aug 8, 2013  \n3      Sep 3, 2013  \n4      Jul 9, 2013  \n...            ...  \n3958  May 18, 2017  \n3959  Oct 31, 2017  \n3960   Feb 3, 2017  \n3961  May 18, 2017  \n3962   Dec 8, 2017  \n\n[3963 rows x 6 columns]",
      "text/html": "<div>\n<style scoped>\n    .dataframe tbody tr th:only-of-type {\n        vertical-align: middle;\n    }\n\n    .dataframe tbody tr th {\n        vertical-align: top;\n    }\n\n    .dataframe thead th {\n        text-align: right;\n    }\n</style>\n<table border=\"1\" class=\"dataframe\">\n  <thead>\n    <tr style=\"text-align: right;\">\n      <th></th>\n      <th>index</th>\n      <th>metascore</th>\n      <th>name</th>\n      <th>console</th>\n      <th>userscore</th>\n      <th>date</th>\n    </tr>\n  </thead>\n  <tbody>\n    <tr>\n      <th>0</th>\n      <td>4</td>\n      <td>94</td>\n      <td>BioShock Infinite</td>\n      <td>PC</td>\n      <td>8.6</td>\n      <td>Mar 25, 2013</td>\n    </tr>\n    <tr>\n      <th>1</th>\n      <td>9</td>\n      <td>91</td>\n      <td>Fez</td>\n      <td>PC</td>\n      <td>6.7</td>\n      <td>May 1, 2013</td>\n    </tr>\n    <tr>\n      <th>2</th>\n      <td>13</td>\n      <td>90</td>\n      <td>Spelunky</td>\n      <td>PC</td>\n      <td>7.3</td>\n      <td>Aug 8, 2013</td>\n    </tr>\n    <tr>\n      <th>3</th>\n      <td>15</td>\n      <td>90</td>\n      <td>Brothers: A Tale of Two Sons</td>\n      <td>PC</td>\n      <td>8.6</td>\n      <td>Sep 3, 2013</td>\n    </tr>\n    <tr>\n      <th>4</th>\n      <td>16</td>\n      <td>90</td>\n      <td>Dota 2</td>\n      <td>PC</td>\n      <td>6.5</td>\n      <td>Jul 9, 2013</td>\n    </tr>\n    <tr>\n      <th>...</th>\n      <td>...</td>\n      <td>...</td>\n      <td>...</td>\n      <td>...</td>\n      <td>...</td>\n      <td>...</td>\n    </tr>\n    <tr>\n      <th>3958</th>\n      <td>15627</td>\n      <td>45</td>\n      <td>Reservoir Dogs: Bloody Days</td>\n      <td>PC</td>\n      <td>5.7</td>\n      <td>May 18, 2017</td>\n    </tr>\n    <tr>\n      <th>3959</th>\n      <td>15629</td>\n      <td>44</td>\n      <td>Bubsy: The Woolies Strike Back</td>\n      <td>PC</td>\n      <td>4.5</td>\n      <td>Oct 31, 2017</td>\n    </tr>\n    <tr>\n      <th>3960</th>\n      <td>15630</td>\n      <td>44</td>\n      <td>Husk</td>\n      <td>PC</td>\n      <td>3.8</td>\n      <td>Feb 3, 2017</td>\n    </tr>\n    <tr>\n      <th>3961</th>\n      <td>15636</td>\n      <td>40</td>\n      <td>Inner Chains</td>\n      <td>PC</td>\n      <td>5</td>\n      <td>May 18, 2017</td>\n    </tr>\n    <tr>\n      <th>3962</th>\n      <td>15641</td>\n      <td>38</td>\n      <td>Hello Neighbor</td>\n      <td>PC</td>\n      <td>4.5</td>\n      <td>Dec 8, 2017</td>\n    </tr>\n  </tbody>\n</table>\n<p>3963 rows × 6 columns</p>\n</div>"
     },
     "metadata": {},
     "execution_count": 21
    }
   ],
   "source": [
    "meta_df.reset_index()"
   ]
  },
  {
   "cell_type": "code",
   "execution_count": 22,
   "metadata": {},
   "outputs": [
    {
     "output_type": "execute_result",
     "data": {
      "text/plain": "metascore     int64\nname         object\nconsole      object\nuserscore    object\ndate         object\ndtype: object"
     },
     "metadata": {},
     "execution_count": 22
    }
   ],
   "source": [
    "meta_df.dtypes"
   ]
  },
  {
   "cell_type": "code",
   "execution_count": null,
   "metadata": {},
   "outputs": [],
   "source": []
  }
 ],
 "metadata": {
  "kernelspec": {
   "display_name": "Python 3",
   "language": "python",
   "name": "python3"
  },
  "language_info": {
   "codemirror_mode": {
    "name": "ipython",
    "version": 3
   },
   "file_extension": ".py",
   "mimetype": "text/x-python",
   "name": "python",
   "nbconvert_exporter": "python",
   "pygments_lexer": "ipython3",
   "version": "3.7.6-final"
  }
 },
 "nbformat": 4,
 "nbformat_minor": 4
}